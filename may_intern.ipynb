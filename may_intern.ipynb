{
  "nbformat": 4,
  "nbformat_minor": 0,
  "metadata": {
    "colab": {
      "provenance": [],
      "authorship_tag": "ABX9TyMZHS0cwsDKdPWBQjtNomBp",
      "include_colab_link": true
    },
    "kernelspec": {
      "name": "python3",
      "display_name": "Python 3"
    },
    "language_info": {
      "name": "python"
    }
  },
  "cells": [
    {
      "cell_type": "markdown",
      "metadata": {
        "id": "view-in-github",
        "colab_type": "text"
      },
      "source": [
        "<a href=\"https://colab.research.google.com/github/Shalinib6/may_python/blob/main/may_intern.ipynb\" target=\"_parent\"><img src=\"https://colab.research.google.com/assets/colab-badge.svg\" alt=\"Open In Colab\"/></a>"
      ]
    },
    {
      "cell_type": "code",
      "source": [
        "import os\n",
        "\n",
        "# Create a folder\n",
        "os.makedirs(\"my_folder\", exist_ok=True)\n",
        "\n",
        "# Save a file in that folder\n",
        "with open(\"my_folder/sample.txt\", \"w\") as f:\n",
        "    f.write(\"Hello from Colab!\")\n"
      ],
      "metadata": {
        "id": "J9fw5MZNFgGk"
      },
      "execution_count": null,
      "outputs": []
    },
    {
      "cell_type": "code",
      "execution_count": null,
      "metadata": {
        "colab": {
          "base_uri": "https://localhost:8080/"
        },
        "id": "3Z6RVvkLFGci",
        "outputId": "13d027b8-7c6d-462a-d830-7c0b2faaa402"
      },
      "outputs": [
        {
          "output_type": "stream",
          "name": "stdout",
          "text": [
            "Mounted at /content/drive\n"
          ]
        }
      ],
      "source": [
        "from google.colab import drive\n",
        "drive.mount('/content/drive')\n"
      ]
    },
    {
      "cell_type": "code",
      "source": [
        "\n",
        "def reversed_num(num):\n",
        "  if num<0:\n",
        "      return -int(str(-num)[::-1])\n",
        "\n",
        "  else :\n",
        "      return int(str(num)[::-1])\n",
        "\n",
        "\n",
        "\n",
        "\n",
        "num=-12300;\n",
        "print (reversed_num(num))"
      ],
      "metadata": {
        "colab": {
          "base_uri": "https://localhost:8080/"
        },
        "id": "e7iYpfmwHNLt",
        "outputId": "6c50181d-38d2-46d9-cce1-8fa5db2877f5"
      },
      "execution_count": null,
      "outputs": [
        {
          "output_type": "stream",
          "name": "stdout",
          "text": [
            "-321\n"
          ]
        }
      ]
    },
    {
      "cell_type": "code",
      "source": [
        "#Write a function that takes a list of integers and returns the count of even numbers in the list.\n",
        "def count_even_numbers(list):\n",
        "  count=0\n",
        "  for num in list:\n",
        "    if num%2==0:\n",
        "      print(\"Even Number is\",num)\n",
        "      count+=1\n",
        "  print(\"Tot no of even NUmbers\",count)\n",
        "\n",
        "\n",
        "list=[1,2,3,4,5,6]\n",
        "count_even_numbers(list)\n"
      ],
      "metadata": {
        "colab": {
          "base_uri": "https://localhost:8080/"
        },
        "id": "w0DOtT1i9x7_",
        "outputId": "6a138dbf-968d-4a96-bd12-98dbf8177e37"
      },
      "execution_count": 13,
      "outputs": [
        {
          "output_type": "stream",
          "name": "stdout",
          "text": [
            "Even NUmbers are 2\n",
            "Even NUmbers are 4\n",
            "Even NUmbers are 6\n",
            "Tot no of even NUmbers 3\n"
          ]
        }
      ]
    },
    {
      "cell_type": "code",
      "source": [
        "#Write a function that takes a string and returns its reverse.\n",
        "st1=str(input(\"Enter the String\"))\n",
        "st1_upgrade=str.upper(st1)\n",
        "print(st1_upgrade[::-1])"
      ],
      "metadata": {
        "colab": {
          "base_uri": "https://localhost:8080/"
        },
        "id": "M38E5HpQC6Q8",
        "outputId": "b4675d29-bb9a-465a-f72c-fea7f04be095"
      },
      "execution_count": 21,
      "outputs": [
        {
          "output_type": "stream",
          "name": "stdout",
          "text": [
            "Enter the Stringdelulu\n",
            "ULULED\n"
          ]
        }
      ]
    },
    {
      "cell_type": "code",
      "source": [
        "#Write a function that finds the first non-repeating character in a string and returns its index. If it doesn't exist, return -1.\n",
        "def non_repeating(st1):\n",
        " for i in range(len(st1)):\n",
        "     if st1.count(st1[i]) == 1:\n",
        "            return i\n",
        " return -1\n",
        "\n",
        "\n",
        "st1=str(input(\"Enter the String\"))\n",
        "non_repeating(st1)"
      ],
      "metadata": {
        "colab": {
          "base_uri": "https://localhost:8080/"
        },
        "id": "uoCep4dBEZy-",
        "outputId": "3d86196b-d865-469e-cffc-a6b9a082fe14"
      },
      "execution_count": 31,
      "outputs": [
        {
          "name": "stdout",
          "output_type": "stream",
          "text": [
            "Enter the Stringloveleetcode\n"
          ]
        },
        {
          "output_type": "execute_result",
          "data": {
            "text/plain": [
              "2"
            ]
          },
          "metadata": {},
          "execution_count": 31
        }
      ]
    },
    {
      "cell_type": "code",
      "source": [
        "#Given an array,eate cr a new array where each element is the sum of the current element and all previous elements from the original array.\n",
        "def arr2(arr):\n",
        "  new_arr=[]\n",
        "  total=0\n",
        "  for i in arr:\n",
        "    total=total+i\n",
        "    new_arr.append(total)\n",
        "  print(new_arr)\n",
        "\n",
        "\n",
        "\n",
        "arr1=[1,2,3,4,5]\n",
        "arr2(arr1)"
      ],
      "metadata": {
        "colab": {
          "base_uri": "https://localhost:8080/"
        },
        "id": "gqjN_mFBL58E",
        "outputId": "5da64b9c-75cd-4f34-8d32-4f649eccf0c2"
      },
      "execution_count": 47,
      "outputs": [
        {
          "output_type": "stream",
          "name": "stdout",
          "text": [
            "[1, 3, 6, 10, 15]\n"
          ]
        }
      ]
    },
    {
      "cell_type": "code",
      "source": [
        "#Create a BankAccount class that has the following features:\n",
        "class BankAccount:\n",
        "  def __init__(self,name,balance):\n",
        "    self.name=name\n",
        "    self.balance=balance\n",
        "\n",
        "  def deposit_money(self,depo_amount):\n",
        "    if depo_amount>0:\n",
        "      self.balance+=depo_amount\n",
        "      print(f\"Deposited amount {depo_amount} and available balance total is {self.balance}\")\n",
        "    else:\n",
        "      print(\"Deposite amount must be positive\")\n",
        "\n",
        "  def withdraw_money(self,with_amount):\n",
        "    if with_amount<self.balance:\n",
        "      self.balance-=with_amount\n",
        "      print(f\"Withdrawed amount is {with_amount} and available balance total is {self.balance}\")\n",
        "    else:\n",
        "      print('Insufficient balance')\n",
        "\n",
        "  def Account_details(self,name,recent_deposit,recent_withdraw,balance):\n",
        "    print(f\"The Account holder name is {self.name} \")\n",
        "    print(f\"The Recent_deposit amount is {recent_deposit}\")\n",
        "    print(f\"The Recent withdrawed amount is {recent_withdraw}\")\n",
        "    print(f\"The Total Account balance is {self.balance}\")\n",
        "\n",
        "\n",
        "my_bankAccount=BankAccount(\"Shalini\",10000)\n",
        "my_bankAccount.deposit_money(10000)\n",
        "my_bankAccount.withdraw_money(15000)\n",
        "my_bankAccount.Account_details(\"Shalini\",10000,10000,15000)"
      ],
      "metadata": {
        "colab": {
          "base_uri": "https://localhost:8080/"
        },
        "id": "KlLwJ3tWWSzR",
        "outputId": "93a9e9f3-74b5-49ec-c2f7-af8f1cdd5243"
      },
      "execution_count": 4,
      "outputs": [
        {
          "output_type": "stream",
          "name": "stdout",
          "text": [
            "Deposited amount 10000 and available balance total is 20000\n",
            "Withdrawed amount is 15000 and available balance total is 5000\n",
            "The Account holder name is Shalini \n",
            "The Recent_deposit amount is 10000\n",
            "The Recent withdrawed amount is 10000\n",
            "The Total Account balance is 5000\n"
          ]
        }
      ]
    },
    {
      "cell_type": "code",
      "source": [
        "class Rectangle:\n",
        "  def __init__(self,width,height):\n",
        "    self.width=width\n",
        "    self.height=height\n",
        "\n",
        "  def AreaandPerimeter(self):\n",
        "    print( self.width*self.height)\n",
        "    print(2*self.width*self.height)\n",
        "\n",
        "  def RectisSquare(self):\n",
        "    if self.width==self.height:\n",
        "      print(\"This rectangle is a square\")\n",
        "    else:\n",
        "      print(\"This rectangle is not a square\")\n",
        "\n",
        "  def displaydimensions(self):\n",
        "    print(f\"The width of the rectangle is:{self.width} \")\n",
        "    print(f\"The height of the rectanlge is:{self.height}\")\n",
        "\n",
        "ripo=Rectangle(5,10)\n",
        "ripo.AreaandPerimeter()\n",
        "ripo.RectisSquare()\n",
        "ripo.displaydimensions()\n",
        ""
      ],
      "metadata": {
        "colab": {
          "base_uri": "https://localhost:8080/"
        },
        "id": "WrA_IKQ7WZb-",
        "outputId": "2b107257-af2a-4e7d-c624-b420513ec244"
      },
      "execution_count": 11,
      "outputs": [
        {
          "output_type": "stream",
          "name": "stdout",
          "text": [
            "50\n",
            "100\n",
            "This rectangle is not a square\n",
            "The width of the rectangle is:5 \n",
            "The height of the rectanlge is:10\n"
          ]
        }
      ]
    },
    {
      "cell_type": "code",
      "source": [
        "class Student:\n",
        "    def __init__(self, name, subjects):\n",
        "        self.name = name\n",
        "        self.subjects = subjects\n",
        "        self.grades = {}\n",
        "\n",
        "    def add_grade(self, subject, grade):\n",
        "        if subject in self.subjects:\n",
        "            self.grades[subject] = grade\n",
        "        else:\n",
        "            print(f\"{subject} is not a valid subject for {self.name}.\")\n",
        "\n",
        "    def calculate_average(self):\n",
        "        print(sum(self.grades.values()) / len(self.grades))\n",
        "\n",
        "    def display_report_card(self):\n",
        "        print(f\"Report Card for {self.name}:\")\n",
        "        for subject in self.subjects:\n",
        "            grade = self.grades.get(subject, \"No grade assigned\")\n",
        "            print(f\"{subject}: {grade}\")\n",
        "        avg = self.calculate_average()\n",
        "        print(f\"Average Grade:\",avg)\n",
        "\n",
        "student = Student(\"Shalu\", [\"Math\", \"Science\", \"English\"])\n",
        "\n",
        "student.add_grade(\"Math\", 85)\n",
        "student.add_grade(\"Science\", 90)\n",
        "student.add_grade(\"English\", 87)\n",
        "\n",
        "print(\"Average Grade:\", student.calculate_average())\n",
        "student.display_report_card()\n"
      ],
      "metadata": {
        "colab": {
          "base_uri": "https://localhost:8080/"
        },
        "id": "ox4JrhfjZFlZ",
        "outputId": "1f566119-c920-4d47-d13b-20c423a50cc4"
      },
      "execution_count": 19,
      "outputs": [
        {
          "output_type": "stream",
          "name": "stdout",
          "text": [
            "87.33333333333333\n",
            "Average Grade: None\n",
            "Report Card for Alice:\n",
            "Math: 85\n",
            "Science: 90\n",
            "English: 87\n",
            "87.33333333333333\n",
            "Average Grade: None\n"
          ]
        }
      ]
    },
    {
      "cell_type": "code",
      "source": [],
      "metadata": {
        "id": "GqCrNnKTebEe"
      },
      "execution_count": null,
      "outputs": []
    }
  ]
}