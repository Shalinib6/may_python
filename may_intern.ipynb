{
  "nbformat": 4,
  "nbformat_minor": 0,
  "metadata": {
    "colab": {
      "provenance": [],
      "authorship_tag": "ABX9TyPY8hIcH9RDlghlLaiO3Usd",
      "include_colab_link": true
    },
    "kernelspec": {
      "name": "python3",
      "display_name": "Python 3"
    },
    "language_info": {
      "name": "python"
    }
  },
  "cells": [
    {
      "cell_type": "markdown",
      "metadata": {
        "id": "view-in-github",
        "colab_type": "text"
      },
      "source": [
        "<a href=\"https://colab.research.google.com/github/Shalinib6/may_python/blob/main/may_intern.ipynb\" target=\"_parent\"><img src=\"https://colab.research.google.com/assets/colab-badge.svg\" alt=\"Open In Colab\"/></a>"
      ]
    },
    {
      "cell_type": "code",
      "source": [
        "import os\n",
        "\n",
        "# Create a folder\n",
        "os.makedirs(\"my_folder\", exist_ok=True)\n",
        "\n",
        "# Save a file in that folder\n",
        "with open(\"my_folder/sample.txt\", \"w\") as f:\n",
        "    f.write(\"Hello from Colab!\")\n"
      ],
      "metadata": {
        "id": "J9fw5MZNFgGk"
      },
      "execution_count": null,
      "outputs": []
    },
    {
      "cell_type": "code",
      "execution_count": null,
      "metadata": {
        "colab": {
          "base_uri": "https://localhost:8080/"
        },
        "id": "3Z6RVvkLFGci",
        "outputId": "13d027b8-7c6d-462a-d830-7c0b2faaa402"
      },
      "outputs": [
        {
          "output_type": "stream",
          "name": "stdout",
          "text": [
            "Mounted at /content/drive\n"
          ]
        }
      ],
      "source": [
        "from google.colab import drive\n",
        "drive.mount('/content/drive')\n"
      ]
    },
    {
      "cell_type": "code",
      "source": [
        "\n",
        "def reversed_num(num):\n",
        "  if num<0:\n",
        "      return -int(str(-num)[::-1])\n",
        "\n",
        "  else :\n",
        "      return int(str(num)[::-1])\n",
        "\n",
        "\n",
        "\n",
        "\n",
        "num=-12300;\n",
        "print (reversed_num(num))"
      ],
      "metadata": {
        "colab": {
          "base_uri": "https://localhost:8080/"
        },
        "id": "e7iYpfmwHNLt",
        "outputId": "6c50181d-38d2-46d9-cce1-8fa5db2877f5"
      },
      "execution_count": null,
      "outputs": [
        {
          "output_type": "stream",
          "name": "stdout",
          "text": [
            "-321\n"
          ]
        }
      ]
    },
    {
      "cell_type": "code",
      "source": [
        "#Write a function that takes a list of integers and returns the count of even numbers in the list.\n",
        "def count_even_numbers(list):\n",
        "  count=0\n",
        "  for num in list:\n",
        "    if num%2==0:\n",
        "      print(\"Even Number is\",num)\n",
        "      count+=1\n",
        "  print(\"Tot no of even NUmbers\",count)\n",
        "\n",
        "\n",
        "list=[1,2,3,4,5,6]\n",
        "count_even_numbers(list)\n"
      ],
      "metadata": {
        "colab": {
          "base_uri": "https://localhost:8080/"
        },
        "id": "w0DOtT1i9x7_",
        "outputId": "6a138dbf-968d-4a96-bd12-98dbf8177e37"
      },
      "execution_count": 13,
      "outputs": [
        {
          "output_type": "stream",
          "name": "stdout",
          "text": [
            "Even NUmbers are 2\n",
            "Even NUmbers are 4\n",
            "Even NUmbers are 6\n",
            "Tot no of even NUmbers 3\n"
          ]
        }
      ]
    },
    {
      "cell_type": "code",
      "source": [
        "#Write a function that takes a string and returns its reverse.\n",
        "st1=str(input(\"Enter the String\"))\n",
        "st1_upgrade=str.upper(st1)\n",
        "print(st1_upgrade[::-1])"
      ],
      "metadata": {
        "colab": {
          "base_uri": "https://localhost:8080/"
        },
        "id": "M38E5HpQC6Q8",
        "outputId": "b4675d29-bb9a-465a-f72c-fea7f04be095"
      },
      "execution_count": 21,
      "outputs": [
        {
          "output_type": "stream",
          "name": "stdout",
          "text": [
            "Enter the Stringdelulu\n",
            "ULULED\n"
          ]
        }
      ]
    },
    {
      "cell_type": "code",
      "source": [
        "#Write a function that finds the first non-repeating character in a string and returns its index. If it doesn't exist, return -1.\n",
        "def non_repeating(st1):\n",
        " for i in range(len(st1)):\n",
        "     if st1.count(st1[i]) == 1:\n",
        "            return i\n",
        " return -1\n",
        "\n",
        "\n",
        "st1=str(input(\"Enter the String\"))\n",
        "non_repeating(st1)"
      ],
      "metadata": {
        "colab": {
          "base_uri": "https://localhost:8080/"
        },
        "id": "uoCep4dBEZy-",
        "outputId": "3d86196b-d865-469e-cffc-a6b9a082fe14"
      },
      "execution_count": 31,
      "outputs": [
        {
          "name": "stdout",
          "output_type": "stream",
          "text": [
            "Enter the Stringloveleetcode\n"
          ]
        },
        {
          "output_type": "execute_result",
          "data": {
            "text/plain": [
              "2"
            ]
          },
          "metadata": {},
          "execution_count": 31
        }
      ]
    }
  ]
}