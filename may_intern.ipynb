{
  "nbformat": 4,
  "nbformat_minor": 0,
  "metadata": {
    "colab": {
      "provenance": [],
      "authorship_tag": "ABX9TyNYJtBnVOmLCg+aV9+iaRBd",
      "include_colab_link": true
    },
    "kernelspec": {
      "name": "python3",
      "display_name": "Python 3"
    },
    "language_info": {
      "name": "python"
    }
  },
  "cells": [
    {
      "cell_type": "markdown",
      "metadata": {
        "id": "view-in-github",
        "colab_type": "text"
      },
      "source": [
        "<a href=\"https://colab.research.google.com/github/Shalinib6/may_python/blob/main/may_intern.ipynb\" target=\"_parent\"><img src=\"https://colab.research.google.com/assets/colab-badge.svg\" alt=\"Open In Colab\"/></a>"
      ]
    },
    {
      "cell_type": "code",
      "source": [
        "import os\n",
        "\n",
        "# Create a folder\n",
        "os.makedirs(\"my_folder\", exist_ok=True)\n",
        "\n",
        "# Save a file in that folder\n",
        "with open(\"my_folder/sample.txt\", \"w\") as f:\n",
        "    f.write(\"Hello from Colab!\")\n"
      ],
      "metadata": {
        "id": "J9fw5MZNFgGk"
      },
      "execution_count": null,
      "outputs": []
    },
    {
      "cell_type": "code",
      "execution_count": null,
      "metadata": {
        "colab": {
          "base_uri": "https://localhost:8080/"
        },
        "id": "3Z6RVvkLFGci",
        "outputId": "13d027b8-7c6d-462a-d830-7c0b2faaa402"
      },
      "outputs": [
        {
          "output_type": "stream",
          "name": "stdout",
          "text": [
            "Mounted at /content/drive\n"
          ]
        }
      ],
      "source": [
        "from google.colab import drive\n",
        "drive.mount('/content/drive')\n"
      ]
    },
    {
      "cell_type": "code",
      "source": [
        "\n",
        "def reversed_num(num):\n",
        "  if num<0:\n",
        "      return -int(str(-num)[::-1])\n",
        "\n",
        "  else :\n",
        "      return int(str(num)[::-1])\n",
        "\n",
        "\n",
        "\n",
        "\n",
        "num=-12300;\n",
        "print (reversed_num(num))"
      ],
      "metadata": {
        "colab": {
          "base_uri": "https://localhost:8080/"
        },
        "id": "e7iYpfmwHNLt",
        "outputId": "6c50181d-38d2-46d9-cce1-8fa5db2877f5"
      },
      "execution_count": null,
      "outputs": [
        {
          "output_type": "stream",
          "name": "stdout",
          "text": [
            "-321\n"
          ]
        }
      ]
    },
    {
      "cell_type": "code",
      "source": [
        "#Write a function that takes a list of integers and returns the count of even numbers in the list.\n",
        "def count_even_numbers(list):\n",
        "  count=0\n",
        "  for num in list:\n",
        "    if num%2==0:\n",
        "      print(\"Even NUmbers are\",num)\n",
        "      count+=1\n",
        "  print(\"Tot no of even NUmbers\",count)\n",
        "\n",
        "\n",
        "list=[1,2,3,4,5,6]\n",
        "count_even_numbers(list)\n"
      ],
      "metadata": {
        "colab": {
          "base_uri": "https://localhost:8080/"
        },
        "id": "w0DOtT1i9x7_",
        "outputId": "6a138dbf-968d-4a96-bd12-98dbf8177e37"
      },
      "execution_count": 13,
      "outputs": [
        {
          "output_type": "stream",
          "name": "stdout",
          "text": [
            "Even NUmbers are 2\n",
            "Even NUmbers are 4\n",
            "Even NUmbers are 6\n",
            "Tot no of even NUmbers 3\n"
          ]
        }
      ]
    }
  ]
}